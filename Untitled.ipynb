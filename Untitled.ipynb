{
 "cells": [
  {
   "cell_type": "code",
   "execution_count": 1,
   "metadata": {},
   "outputs": [],
   "source": [
    "import random\n",
    "from tkinter import *\n",
    "import time\n",
    "random_num=random.randint(1,10)\n",
    "def destroy():\n",
    "    root.destroy()   \n",
    "def a():\n",
    "    inp=int(e.get())\n",
    "    guess=inp\n",
    "    #l1.config(text=\"ans is \"+inp)\n",
    "    if(guess==random_num):\n",
    "        l1.config(text=\"Yayyyy good job!\",font=(\"Arial\",10,\"bold\"))\n",
    "        button=Button(root,text=\"Click to exit\",command=destroy)\n",
    "        button.grid(row=5,column=1)              \n",
    "    elif(guess<random_num):\n",
    "        l1.config(text=\"OOps too low! Try again\")\n",
    "    elif(guess>random_num):\n",
    "        l1.config(text=\"OOps too high!Try again\")\n",
    "    \n",
    "root=Tk()\n",
    "root.geometry(\"400x400\")\n",
    "root.title(\"Guess the number!\")\n",
    "l=Label(root,text=\"Enter a number between 1 and 10!\",font=(\"Arial\",15,\"bold\"))\n",
    "l.grid(row=1,column=1)\n",
    "e=Entry(root)\n",
    "#e.focus_set()\n",
    "e.grid(row=2,column=1)\n",
    "b=Button(root,text=\"Check!\",command=a).grid(row=3,column=1)\n",
    "l1=Label(root,text=\" \")\n",
    "l1.grid(row=4,column=1)\n",
    "root.mainloop()\n",
    "    "
   ]
  },
  {
   "cell_type": "code",
   "execution_count": 3,
   "metadata": {},
   "outputs": [],
   "source": [
    "def guess():\n",
    "    guess=0\n",
    "    while(guess!=random_num):\n",
    "        guess=int(input(\"Enter a number between 1 and 10 \"))\n",
    "        if(guess<random_num):\n",
    "            print(\"Sorry wrong guess.Too low!\")\n",
    "        elif(guess>random_num):\n",
    "            print(\"Sorry wrong guess.Too high!\")"
   ]
  },
  {
   "cell_type": "code",
   "execution_count": 16,
   "metadata": {},
   "outputs": [
    {
     "name": "stdout",
     "output_type": "stream",
     "text": [
      "1\n",
      "0\n",
      "1\n"
     ]
    }
   ],
   "source": [
    "from tkinter import *\n",
    "root=Tk()\n",
    "def a():\n",
    "    inp=but.get()\n",
    "    print(inp)\n",
    "\n",
    "\n",
    "but=IntVar()\n",
    "b3=Checkbutton(root,text=\"King bed\",variable=but,onvalue=1,offvalue=0).pack()\n",
    "butt=Button(root,text=\"Hye\",command=a).pack()\n",
    "root.mainloop()\n"
   ]
  },
  {
   "cell_type": "code",
   "execution_count": null,
   "metadata": {},
   "outputs": [],
   "source": []
  }
 ],
 "metadata": {
  "kernelspec": {
   "display_name": "Python 3",
   "language": "python",
   "name": "python3"
  },
  "language_info": {
   "codemirror_mode": {
    "name": "ipython",
    "version": 3
   },
   "file_extension": ".py",
   "mimetype": "text/x-python",
   "name": "python",
   "nbconvert_exporter": "python",
   "pygments_lexer": "ipython3",
   "version": "3.8.5"
  }
 },
 "nbformat": 4,
 "nbformat_minor": 4
}
